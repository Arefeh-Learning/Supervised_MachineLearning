{
 "cells": [
  {
   "cell_type": "markdown",
   "id": "b4a11594",
   "metadata": {},
   "source": [
    "## Goal\n",
    "- Learn to implement the model $f_{w,b}$ for linear regression with one variable"
   ]
  },
  {
   "cell_type": "markdown",
   "id": "eedb03dd",
   "metadata": {},
   "source": [
    "## Notations\n",
    "- $a$: scalar\n",
    "- $\\mathbf{a}$: vector\n",
    "- $\\mathbf{x}$: training example feature values (size = (1000 sqft)) `x_train` \n",
    "- $\\mathbf{y}$: training example  targets (price = (1000s of dollars)) `y_train` \n",
    "- $x^{(i)}$, $y^{(i)}$: $i_{th}$ training example (`x_i`, `y_i`)\n",
    "- m: number of training examples `m`\n",
    "- $w$ parameter: weight `w`\n",
    "- $b$ parameter: bias `b`     \n",
    "- $f_{w,b}(x^{(i)})$: the result of the model evaluation at $x^{(i)}$ parameterized by $w,b$: $f_{w,b}(x^{(i)}) = wx^{(i)}+b$  = `f_wb`"
   ]
  },
  {
   "cell_type": "code",
   "execution_count": 7,
   "id": "89bdf2a1",
   "metadata": {},
   "outputs": [],
   "source": [
    "import numpy as np\n",
    "import matplotlib.pyplot as plt\n",
    "plt.style.use('deeplearning.mplstyle')"
   ]
  },
  {
   "cell_type": "markdown",
   "id": "6e6e0e60",
   "metadata": {},
   "source": [
    "## Problem Statement\n",
    "We will use a simple data set with only two data points - a house with 1000 square feet sold for \\\\$400,000 and a house with 2000 square feet sold for \\\\$600,000. These two points will constitute our data or training set.\n",
    "- The units of size are 1000 sqft\n",
    "- The units of price are 1000s of dollars\n",
    "\n",
    "| Size (1000 sqft)     | Price (1000s of dollars) |\n",
    "| -------------------| ------------------------ |\n",
    "| 1.0               | 400                      |\n",
    "| 2.0               | 600                      |\n",
    "\n",
    "We would like to fit a linear regression model through these two points, so we can then predict price for other houses."
   ]
  },
  {
   "cell_type": "code",
   "execution_count": 71,
   "id": "c0529529",
   "metadata": {},
   "outputs": [
    {
     "name": "stdout",
     "output_type": "stream",
     "text": [
      "x_train = [1. 2.]\n",
      "y_train = [400. 600.]\n"
     ]
    }
   ],
   "source": [
    "x_train = np.array([1.0, 2.0])\n",
    "y_train = np.array([400.0, 600.0])\n",
    "print(f\"x_train = {x_train}\")\n",
    "print(f\"y_train = {y_train}\")"
   ]
  },
  {
   "cell_type": "markdown",
   "id": "739d4311",
   "metadata": {},
   "source": [
    "## Number of training examples `m`\n",
    "We will use `m` to denote the number of training examples. Numpy arrays have a `.shape` parameter. `x_train.shape` returns a python tuple with an entry for each dimension. `x_train.shape[0]` is the length of the array and number of examples as shown below."
   ]
  },
  {
   "cell_type": "code",
   "execution_count": 72,
   "id": "494d794c",
   "metadata": {},
   "outputs": [
    {
     "name": "stdout",
     "output_type": "stream",
     "text": [
      "x_train.shape: (2,)\n",
      "Number of training example is: 2\n"
     ]
    }
   ],
   "source": [
    "print(f\"x_train.shape: {x_train.shape}\")\n",
    "m = x_train.shape[0]\n",
    "print(f\"Number of training example is: {m}\")"
   ]
  },
  {
   "cell_type": "markdown",
   "id": "65337eed",
   "metadata": {},
   "source": [
    "### Training example `x_i, y_i`\n",
    "\n",
    "We will use (x$^{(i)}$, y$^{(i)}$) to denote the $i^{th}$ training example. Since Python is zero indexed, (x$^{(0)}$, y$^{(0)}$) is (1.0, 400.0) and (x$^{(1)}$, y$^{(1)}$) is (2.0, 600.0). \n",
    "\n",
    "To access a value in a Numpy array, one indexes the array with the desired offset. For example the syntax to access location zero of `x_train` is `x_train[0]`.\n",
    "Run the next code block below to get the $i^{th}$ training example."
   ]
  },
  {
   "cell_type": "code",
   "execution_count": 73,
   "id": "17a6f95e",
   "metadata": {},
   "outputs": [
    {
     "name": "stdout",
     "output_type": "stream",
     "text": [
      "(x^(1), y^(1)) = (2.0, 600.0)\n"
     ]
    }
   ],
   "source": [
    "i = 1\n",
    "\n",
    "x_i = x_train[i]\n",
    "y_i = y_train[i]\n",
    "print(f\"(x^({i}), y^({i})) = ({x_i}, {y_i})\")"
   ]
  },
  {
   "cell_type": "markdown",
   "id": "d63a20b7",
   "metadata": {},
   "source": [
    "## Plotting the data\n",
    "We can plot the three points using `scatter()` function in the `matplotlib` library.\n",
    "- The funtion arguments `marker` and `c` show the points as red crosses (the default is blue dots)"
   ]
  },
  {
   "cell_type": "code",
   "execution_count": 74,
   "id": "c1e2e6b4",
   "metadata": {},
   "outputs": [
    {
     "data": {
      "image/png": "[encoded data removed]",
      "text/plain": [
       "<Figure size 640x480 with 1 Axes>"
      ]
     },
     "metadata": {},
     "output_type": "display_data"
    }
   ],
   "source": [
    "# Plot the data points\n",
    "plt.scatter(x_train, y_train, marker='x', c='r')\n",
    "\n",
    "plt.title(\"Housing Prices\")\n",
    "# Set the y-axis label\n",
    "plt.ylabel(\"Price (in 1000s of dollars)\")\n",
    "# Set the x-axis label\n",
    "plt.xlabel(\"Size (1000 sqft)\")\n",
    "plt.show()"
   ]
  },
  {
   "cell_type": "markdown",
   "id": "46c371c8",
   "metadata": {},
   "source": [
    "## Model function\n",
    "The model function for linear regression (which is a function that maps from `x` to `y`) is represented as\n",
    "$$ f_{w,b}(x^{(i)}) = wx^{(i)} + b \\tag{1}$$ <br/>\n",
    "\n",
    "The formula above is how we can represent straight lines - different values of $w$ and $b$ give you different straight lines on the plot.\n",
    "<br/> <br/>\n",
    "Let's start with $w$ = 100 and $b$ = 100."
   ]
  },
  {
   "cell_type": "code",
   "execution_count": 75,
   "id": "f91ee839",
   "metadata": {},
   "outputs": [
    {
     "name": "stdout",
     "output_type": "stream",
     "text": [
      "w: 100\n",
      "b: 100\n"
     ]
    }
   ],
   "source": [
    "w = 200\n",
    "b = 200\n",
    "print(f\"w: {w}\")\n",
    "print(f\"b: {b}\")"
   ]
  },
  {
   "cell_type": "markdown",
   "id": "ab3d1488",
   "metadata": {},
   "source": [
    "Now, let's compute the value of $f_{w,b}(x^{(i)})$ for our two data points. We can explicitly write this out for each data point as - \n",
    "\n",
    "for $x^{(0)}$, `f_wb = w * x[0] + b`\n",
    "\n",
    "for $x^{(1)}$, `f_wb = w * x[1] + b`\n",
    "\n",
    "For a large number of data points, this can get unwieldy and repetitive. So instead, we can calculate the function output in a `for` loop as shown in the `compute_model_output` function below.\n",
    "> **Note**: The argument description `(ndarray (m,))` describes a Numpy n-dimensional array of shape (m,). `(scalar)` describes an argument without dimensions, just a magnitude.  \n",
    "> **Note**: `np.zero(n)` will return a one-dimensional numpy array with $n$ entries   "
   ]
  },
  {
   "cell_type": "code",
   "execution_count": 76,
   "id": "7a508c9b",
   "metadata": {},
   "outputs": [],
   "source": [
    "def compute_model_output(x, w, b):\n",
    "    \"\"\"\n",
    "    Computes the prediction of a linear model\n",
    "    Args:\n",
    "        x (ndarray (m,)): Data, m examples\n",
    "        w,b scalar      : model parameters\n",
    "    Returns:\n",
    "        f_wb (ndarray (m,)): model prediction\n",
    "    \"\"\"\n",
    "    m = x.shape[0]\n",
    "    f_wb = np.zeros(m)\n",
    "    for i in range(m):\n",
    "        f_wb[i] = w * x[i] + b\n",
    "        \n",
    "    return f_wb"
   ]
  },
  {
   "cell_type": "code",
   "execution_count": 77,
   "id": "8d117a08",
   "metadata": {},
   "outputs": [],
   "source": [
    "tmp_f_wb = compute_model_output(x_train, w, b)"
   ]
  },
  {
   "cell_type": "code",
   "execution_count": 78,
   "id": "b566905a",
   "metadata": {},
   "outputs": [
    {
     "data": {
      "image/png": "[encoded data removed]",
      "text/plain": [
       "<Figure size 640x480 with 1 Axes>"
      ]
     },
     "metadata": {},
     "output_type": "display_data"
    }
   ],
   "source": [
    "# Plot our model prediction\n",
    "plt.plot(x_train, tmp_f_wb, c='b', label='Our prediction')\n",
    "\n",
    "# Plot the data points\n",
    "plt.scatter(x_train, y_train, marker='x', c='r', label='Actual Values')\n",
    "\n",
    "plt.title('Housing Prices')\n",
    "plt.ylabel('Price (in 1000s of dollars)')\n",
    "plt.xlabel('Size (1000 sqft)')\n",
    "plt.legend()\n",
    "plt.show()"
   ]
  },
  {
   "cell_type": "markdown",
   "id": "2d31119e",
   "metadata": {},
   "source": [
    "As you can see, setting $w = 100$ and $b = 100$ does *not* result in a line that fits our data. "
   ]
  },
  {
   "cell_type": "markdown",
   "id": "4f106e65",
   "metadata": {},
   "source": [
    "## Prediction\n",
    "Now that we have a model, we can use it to make our original prediction. Let's predict the price of a house with 1200 sqft. Since the units of $x$ are in 1000's of sqft, $x$ is 1.2."
   ]
  },
  {
   "cell_type": "code",
   "execution_count": 70,
   "id": "5283dfe7",
   "metadata": {},
   "outputs": [
    {
     "name": "stdout",
     "output_type": "stream",
     "text": [
      "$440 thousand dollars\n"
     ]
    }
   ],
   "source": [
    "x_i = 1.2\n",
    "cost_1200sqft = w * x_i + b    \n",
    "\n",
    "print(f\"${cost_1200sqft:.0f} thousand dollars\")"
   ]
  },
  {
   "cell_type": "code",
   "execution_count": null,
   "id": "ac68d6c2",
   "metadata": {},
   "outputs": [],
   "source": []
  }
 ],
 "metadata": {
  "kernelspec": {
   "display_name": "Python 3 (ipykernel)",
   "language": "python",
   "name": "python3"
  },
  "language_info": {
   "codemirror_mode": {
    "name": "ipython",
    "version": 3
   },
   "file_extension": ".py",
   "mimetype": "text/x-python",
   "name": "python",
   "nbconvert_exporter": "python",
   "pygments_lexer": "ipython3",
   "version": "3.10.9"
  }
 },
 "nbformat": 4,
 "nbformat_minor": 5
}
